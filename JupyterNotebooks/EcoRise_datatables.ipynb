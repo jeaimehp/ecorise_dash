{
 "cells": [
  {
   "cell_type": "markdown",
   "metadata": {},
   "source": [
    "# Eco Rise Dashboard\n",
    "\n",
    "## Libraries"
   ]
  },
  {
   "cell_type": "code",
   "execution_count": 1,
   "metadata": {},
   "outputs": [],
   "source": [
    "# Libraries\n",
    "\n",
    "# Data\n",
    "import os # Operating system library\n",
    "import numpy as np\n",
    "import pandas as pd # Dataframe manipulations\n",
    "import geopandas as gpd\n",
    "from pathlib import Path # file paths\n",
    "\n",
    "# Dash App\n",
    "from jupyter_dash import JupyterDash # for running in a Jupyter Notebook\n",
    "import dash\n",
    "import dash_bootstrap_components as dbc\n",
    "import dash_core_components as dcc\n",
    "import dash_html_components as html\n",
    "import dash_table\n",
    "from dash.dependencies import Input, Output, State, ALL, MATCH\n",
    "\n",
    "# Data Visualization\n",
    "import plotly.express as px\n",
    "import plotly.graph_objects as go\n",
    "\n",
    "# Geojson loading\n",
    "from urllib.request import urlopen\n",
    "import json"
   ]
  },
  {
   "cell_type": "markdown",
   "metadata": {},
   "source": [
    "## Data Cleaning and Piping"
   ]
  },
  {
   "cell_type": "markdown",
   "metadata": {},
   "source": [
    "### Load Data"
   ]
  },
  {
   "cell_type": "code",
   "execution_count": 4,
   "metadata": {},
   "outputs": [
    {
     "name": "stdout",
     "output_type": "stream",
     "text": [
      "\u001b[34mJupyterNotebooks\u001b[m\u001b[m      ecorise_dashboard.py  \u001b[34menv\u001b[m\u001b[m\r\n",
      "README.md             ecorise_datatables.py environment.yml\r\n",
      "\u001b[34mdata\u001b[m\u001b[m                  ecorise_sunburst.py\r\n"
     ]
    }
   ],
   "source": [
    "!ls .."
   ]
  },
  {
   "cell_type": "code",
   "execution_count": 179,
   "metadata": {},
   "outputs": [],
   "source": [
    "# EcoRise Data\n",
    "## Load data\n",
    "programs = pd.read_csv('../data/Programs.csv')\n",
    "organizations = pd.read_csv('../data/Organizations.csv')\n",
    "geo = pd.read_excel('../data/Geodata.xlsx')\n",
    "\n",
    "# Merge Organization data with geodata\n",
    "orgs = organizations.merge(geo, left_on='Organization', right_on='ORGANIZATION', how='left') "
   ]
  },
  {
   "cell_type": "code",
   "execution_count": 181,
   "metadata": {},
   "outputs": [
    {
     "data": {
      "text/html": [
       "<div>\n",
       "<style scoped>\n",
       "    .dataframe tbody tr th:only-of-type {\n",
       "        vertical-align: middle;\n",
       "    }\n",
       "\n",
       "    .dataframe tbody tr th {\n",
       "        vertical-align: top;\n",
       "    }\n",
       "\n",
       "    .dataframe thead th {\n",
       "        text-align: right;\n",
       "    }\n",
       "</style>\n",
       "<table border=\"1\" class=\"dataframe\">\n",
       "  <thead>\n",
       "    <tr style=\"text-align: right;\">\n",
       "      <th></th>\n",
       "      <th>Organization</th>\n",
       "      <th>Latitude</th>\n",
       "      <th>Longitude</th>\n",
       "      <th>LATITUDE</th>\n",
       "      <th>LONGITUDE</th>\n",
       "    </tr>\n",
       "  </thead>\n",
       "  <tbody>\n",
       "    <tr>\n",
       "      <th>0</th>\n",
       "      <td>8 Shields Institute</td>\n",
       "      <td>29.724215</td>\n",
       "      <td>-95.405872</td>\n",
       "      <td>29.724215</td>\n",
       "      <td>-95.405872</td>\n",
       "    </tr>\n",
       "    <tr>\n",
       "      <th>1</th>\n",
       "      <td>Abilene Zoo</td>\n",
       "      <td>32.437144</td>\n",
       "      <td>-99.690826</td>\n",
       "      <td>32.437144</td>\n",
       "      <td>-99.690826</td>\n",
       "    </tr>\n",
       "    <tr>\n",
       "      <th>2</th>\n",
       "      <td>Alamo Area Master Naturalist</td>\n",
       "      <td>29.532410</td>\n",
       "      <td>-98.480730</td>\n",
       "      <td>29.532410</td>\n",
       "      <td>-98.480730</td>\n",
       "    </tr>\n",
       "    <tr>\n",
       "      <th>3</th>\n",
       "      <td>Aldine ISD</td>\n",
       "      <td>30.026326</td>\n",
       "      <td>-95.387047</td>\n",
       "      <td>30.026326</td>\n",
       "      <td>-95.387047</td>\n",
       "    </tr>\n",
       "    <tr>\n",
       "      <th>4</th>\n",
       "      <td>Alliance to Save Energy</td>\n",
       "      <td>38.905369</td>\n",
       "      <td>-77.042950</td>\n",
       "      <td>38.905369</td>\n",
       "      <td>-77.042950</td>\n",
       "    </tr>\n",
       "    <tr>\n",
       "      <th>...</th>\n",
       "      <td>...</td>\n",
       "      <td>...</td>\n",
       "      <td>...</td>\n",
       "      <td>...</td>\n",
       "      <td>...</td>\n",
       "    </tr>\n",
       "    <tr>\n",
       "      <th>272</th>\n",
       "      <td>Will Smith Zoo School</td>\n",
       "      <td>29.464280</td>\n",
       "      <td>-98.478210</td>\n",
       "      <td>29.464280</td>\n",
       "      <td>-98.478210</td>\n",
       "    </tr>\n",
       "    <tr>\n",
       "      <th>273</th>\n",
       "      <td>William R. Sinkin Eco Centro</td>\n",
       "      <td>29.446228</td>\n",
       "      <td>-98.493947</td>\n",
       "      <td>29.446228</td>\n",
       "      <td>-98.493947</td>\n",
       "    </tr>\n",
       "    <tr>\n",
       "      <th>274</th>\n",
       "      <td>Wyler Area Tramway State Park [TPWD]</td>\n",
       "      <td>31.809387</td>\n",
       "      <td>-106.478149</td>\n",
       "      <td>31.809387</td>\n",
       "      <td>-106.478149</td>\n",
       "    </tr>\n",
       "    <tr>\n",
       "      <th>275</th>\n",
       "      <td>YWCA San Antonio</td>\n",
       "      <td>29.418425</td>\n",
       "      <td>-98.548717</td>\n",
       "      <td>29.418425</td>\n",
       "      <td>-98.548717</td>\n",
       "    </tr>\n",
       "    <tr>\n",
       "      <th>276</th>\n",
       "      <td>Zilker Botanical Garden</td>\n",
       "      <td>30.268559</td>\n",
       "      <td>-97.772249</td>\n",
       "      <td>30.268559</td>\n",
       "      <td>-97.772249</td>\n",
       "    </tr>\n",
       "  </tbody>\n",
       "</table>\n",
       "<p>277 rows × 5 columns</p>\n",
       "</div>"
      ],
      "text/plain": [
       "                             Organization   Latitude   Longitude   LATITUDE  \\\n",
       "0                     8 Shields Institute  29.724215  -95.405872  29.724215   \n",
       "1                             Abilene Zoo  32.437144  -99.690826  32.437144   \n",
       "2            Alamo Area Master Naturalist  29.532410  -98.480730  29.532410   \n",
       "3                              Aldine ISD  30.026326  -95.387047  30.026326   \n",
       "4                 Alliance to Save Energy  38.905369  -77.042950  38.905369   \n",
       "..                                    ...        ...         ...        ...   \n",
       "272                 Will Smith Zoo School  29.464280  -98.478210  29.464280   \n",
       "273          William R. Sinkin Eco Centro  29.446228  -98.493947  29.446228   \n",
       "274  Wyler Area Tramway State Park [TPWD]  31.809387 -106.478149  31.809387   \n",
       "275                      YWCA San Antonio  29.418425  -98.548717  29.418425   \n",
       "276               Zilker Botanical Garden  30.268559  -97.772249  30.268559   \n",
       "\n",
       "      LONGITUDE  \n",
       "0    -95.405872  \n",
       "1    -99.690826  \n",
       "2    -98.480730  \n",
       "3    -95.387047  \n",
       "4    -77.042950  \n",
       "..          ...  \n",
       "272  -98.478210  \n",
       "273  -98.493947  \n",
       "274 -106.478149  \n",
       "275  -98.548717  \n",
       "276  -97.772249  \n",
       "\n",
       "[277 rows x 5 columns]"
      ]
     },
     "execution_count": 181,
     "metadata": {},
     "output_type": "execute_result"
    }
   ],
   "source": [
    "orgs[['Organization', 'Latitude', 'Longitude', 'LATITUDE', 'LONGITUDE']]"
   ]
  },
  {
   "cell_type": "code",
   "execution_count": 46,
   "metadata": {},
   "outputs": [],
   "source": [
    "# Education Service Center Geospatial data layer - use geojson simplified to 0.01 threshold on QGIS \n",
    "## load education service ceters geojson\n",
    "esc_simple_geojson = '../data/esc_simple.geojson'\n",
    "\n",
    "with open(esc_simple_geojson) as json_file:\n",
    "    esc_geojson = json.load(json_file)\n",
    "    \n",
    "# Load ESC Centroid data as point data (file generated using QGIS Centroid feature)\n",
    "centroids = pd.read_csv('../data/centroids.csv')"
   ]
  },
  {
   "cell_type": "markdown",
   "metadata": {},
   "source": [
    "### Add unique Identifiers to datasets"
   ]
  },
  {
   "cell_type": "code",
   "execution_count": 47,
   "metadata": {},
   "outputs": [],
   "source": [
    "# df['unique_id'] = df.longstrings.map(hash)\n",
    "orgs['orgID'] = orgs.index + 1\n",
    "programs['programID'] = programs.index + 1"
   ]
  },
  {
   "cell_type": "code",
   "execution_count": 48,
   "metadata": {},
   "outputs": [],
   "source": [
    "# Add OrgID column to Programs, merging on Organization\n",
    "org_cols = ['Organization','orgID']\n",
    "programs_org = orgs[org_cols]\n",
    "programs = programs.merge(programs_org, how='left', on='Organization')\n",
    "programs['orgID'] = programs['orgID'].astype('Int64')"
   ]
  },
  {
   "cell_type": "markdown",
   "metadata": {},
   "source": [
    "##  brand colors"
   ]
  },
  {
   "cell_type": "code",
   "execution_count": 11,
   "metadata": {},
   "outputs": [],
   "source": [
    "# Set Color scales for Figures using the EcoRise brand color palette\n",
    "fulltint = ['#00A887','#B9D535','#FFC600','#FF8F12','#FF664B']\n",
    "tint_75 = ['#40BEA5','#CBE068','#FFC400','#FFAB4D','#FF8C78']\n",
    "tint_50 = ['#80D4C3','#DCEA9A','#FFE380','#FFC789','#FFB3A5']\n",
    "eco_color = fulltint + tint_75 + tint_50\n",
    "eco_color_r = fulltint[::-1] + tint_75[::-1] + tint_50[::-1]\n",
    "eco_color_desc = eco_color[::-1]\n",
    "eco_color_desc_r = eco_color_r[::-1]"
   ]
  },
  {
   "cell_type": "markdown",
   "metadata": {},
   "source": [
    "### Lists\n",
    "To DO: switch these to being dynamically driven from data source"
   ]
  },
  {
   "cell_type": "code",
   "execution_count": 7,
   "metadata": {},
   "outputs": [],
   "source": [
    "Education_Service_Centers =['All Regions',\n",
    "'Region 1 – Edinburg',\n",
    "'Region 2 – Corpus Christi',\n",
    "'Region 3 – Victoria',\n",
    "'Region 4 – Houston',\n",
    "'Region 5 – Beaumont',\n",
    "'Region 6 – Huntsville',\n",
    "'Region 7 – Kilgore',\n",
    "'Region 8 – Mount Pleasant',\n",
    "'Region 9 – Wichita Falls',\n",
    "'Region 10 – Richardson',\n",
    "'Region 11 – Fort Worth',\n",
    "'Region 12 – Waco',\n",
    "'Region 13 – Austin',\n",
    "'Region 14 – Abilene',\n",
    "'Region 15 – San Angelo',\n",
    "'Region 17 – Lubbock',\n",
    "'Region 18 – Midland',\n",
    "'Region 19 – El Paso',\n",
    "'Region 20 – San Antonio']"
   ]
  },
  {
   "cell_type": "code",
   "execution_count": 8,
   "metadata": {},
   "outputs": [],
   "source": [
    "directory_org_cols = [\n",
    "'Organization',\n",
    "'City',\n",
    "'Education_Service_Center',\n",
    "'Full-Time_Staff',\n",
    "'General_Email',\n",
    "'Mission',\n",
    "'Part-Time_Staff',\n",
    "'Phone',\n",
    "'Primary_Email',\n",
    "'Primary_First_Name',\n",
    "'Primary_Last_Name',\n",
    "'Primary_Role',\n",
    "'Custom_Region',\n",
    "'Sector',\n",
    "'Service_Area',\n",
    "'Stakeholder_Category',\n",
    "'State',\n",
    "'Street_Address',\n",
    "'Other_Staff/Contractors',\n",
    "'Work_Terms',\n",
    "'Website',\n",
    "'ZIP_Code']\n",
    "\n",
    "directory_program_cols =[\n",
    "'Program',\n",
    "'Organization',\n",
    "'Title_I_School_Participants',\n",
    "'Status',\n",
    "'COVID-19_Adaptations',\n",
    "'Description',\n",
    "'Environmental_Themes',\n",
    "'Regions_Served',\n",
    "'Impact_Evaluation',\n",
    "'Groups_Served',\n",
    "'Program_Locations',\n",
    "'Other_Languages',\n",
    "'Services_&_Resources',\n",
    "'Rural_Communities_Focus',\n",
    "'Engaging_Rural_Communities',\n",
    "'Schools_Served',\n",
    "'Academic_Standards_Alignment',\n",
    "'Student_Engagement_Frequency',\n",
    "'Students_Served',\n",
    "'Teacher/Administrator_Engagement_Frequency',\n",
    "'Teachers/Administrators_Served',\n",
    "'Program_Times',\n",
    "'Title_I_Schools_&_Low_Socioeconomic_Background_Focus',\n",
    "'Participants_Served',\n",
    "'Academic_Standards'] "
   ]
  },
  {
   "cell_type": "markdown",
   "metadata": {},
   "source": [
    "### Roll up Environmental theme data"
   ]
  },
  {
   "cell_type": "code",
   "execution_count": 26,
   "metadata": {
    "scrolled": true
   },
   "outputs": [
    {
     "name": "stdout",
     "output_type": "stream",
     "text": [
      "                              Theme  Count  Percent\n",
      "5                             Other     19        6\n",
      "8                    Transportation     26        8\n",
      "4                    Green Building     47       15\n",
      "0                       Air Quality     50       16\n",
      "11            Workforce Development     52       16\n",
      "2                            Energy     71       22\n",
      "9                             Waste     82       26\n",
      "3            Food Systems/Nutrition     85       27\n",
      "10                            Water    174       55\n",
      "7                              STEM    187       59\n",
      "6                  Outdoor Learning    226       72\n",
      "1   Conservation (Wildlife/Habitat)    234       74\n"
     ]
    }
   ],
   "source": [
    "# List of standardized themes from dataset\n",
    "# **Added to standardized list from spreadsheet: Conservation (Wildlife/Habitat), Green Building,  Outdoor Learning\n",
    "themes_list = ['Outdoor learning',\n",
    "'Waste',\n",
    "'Water',\n",
    "'Energy',\n",
    "'Green building',\n",
    "'Food Systems/Nutrition',\n",
    "'Transportation',\n",
    "'Air Quality',\n",
    "'Conservation (wildlife/habitat)',\n",
    "'Workforce Development',\n",
    "'STEM']\n",
    "add_themes = ['Conservation (Wildlife/Habitat)', 'Green Building',  'Outdoor Learning']\n",
    "full_list = themes_list + add_themes \n",
    "\n",
    "def count_env_themes(programs, theme_list):\n",
    "    themes = programs[['Program','Environmental_Themes']]\n",
    "    expanded = themes['Environmental_Themes'].str.get_dummies(', ')\n",
    "    # Replace columns that aren't in list with 'Other'\n",
    "    expanded = expanded.rename(lambda x:  x if x in theme_list else 'Other', axis=1)\n",
    "    # Group 'Other' Columns together\n",
    "    expanded = expanded.groupby(expanded.columns, axis=1).sum()\n",
    "    # Merge the themes and expanded dataframes\n",
    "    themes = pd.concat([themes, expanded], axis=1)\n",
    "\n",
    "    # Get Count of Programs per theme\n",
    "    theme_count = pd.DataFrame(expanded.sum())\n",
    "    theme_count.reset_index(inplace=True)\n",
    "    theme_count.columns = ['Theme','Count']\n",
    "    theme_count['Percent'] = round(100 * theme_count['Count'] / len(programs))\n",
    "    theme_count = theme_count.astype({'Percent': int})\n",
    "    theme_count = theme_count.sort_values(by=['Count'])\n",
    "    print(theme_count)\n",
    "    return theme_count\n",
    "\n",
    "theme_count = count_env_themes(programs, full_list)"
   ]
  },
  {
   "cell_type": "code",
   "execution_count": 178,
   "metadata": {},
   "outputs": [
    {
     "data": {
      "text/html": [
       "<div>\n",
       "<style scoped>\n",
       "    .dataframe tbody tr th:only-of-type {\n",
       "        vertical-align: middle;\n",
       "    }\n",
       "\n",
       "    .dataframe tbody tr th {\n",
       "        vertical-align: top;\n",
       "    }\n",
       "\n",
       "    .dataframe thead th {\n",
       "        text-align: right;\n",
       "    }\n",
       "</style>\n",
       "<table border=\"1\" class=\"dataframe\">\n",
       "  <thead>\n",
       "    <tr style=\"text-align: right;\">\n",
       "      <th></th>\n",
       "      <th>Program</th>\n",
       "      <th>Environmental_Themes</th>\n",
       "    </tr>\n",
       "  </thead>\n",
       "  <tbody>\n",
       "    <tr>\n",
       "      <th>0</th>\n",
       "      <td>5th Grade Wetlands</td>\n",
       "      <td>Outdoor Learning</td>\n",
       "    </tr>\n",
       "    <tr>\n",
       "      <th>1</th>\n",
       "      <td>A Closer Look at Nature</td>\n",
       "      <td>Outdoor Learning</td>\n",
       "    </tr>\n",
       "    <tr>\n",
       "      <th>2</th>\n",
       "      <td>A Closer Look at Nature</td>\n",
       "      <td>Outdoor Learning</td>\n",
       "    </tr>\n",
       "    <tr>\n",
       "      <th>3</th>\n",
       "      <td>Activity Kits</td>\n",
       "      <td>Outdoor Learning</td>\n",
       "    </tr>\n",
       "    <tr>\n",
       "      <th>4</th>\n",
       "      <td>After School Club</td>\n",
       "      <td>Outdoor Learning</td>\n",
       "    </tr>\n",
       "    <tr>\n",
       "      <th>...</th>\n",
       "      <td>...</td>\n",
       "      <td>...</td>\n",
       "    </tr>\n",
       "    <tr>\n",
       "      <th>307</th>\n",
       "      <td>Wetlands Ecology Program</td>\n",
       "      <td>Outdoor Learning</td>\n",
       "    </tr>\n",
       "    <tr>\n",
       "      <th>308</th>\n",
       "      <td>WILD @ The Preserve</td>\n",
       "      <td>Outdoor Learning</td>\n",
       "    </tr>\n",
       "    <tr>\n",
       "      <th>312</th>\n",
       "      <td>Youth Development, Stewardship &amp; Outdoor Recre...</td>\n",
       "      <td>Outdoor Learning</td>\n",
       "    </tr>\n",
       "    <tr>\n",
       "      <th>313</th>\n",
       "      <td>Youth Programs</td>\n",
       "      <td>Outdoor Learning</td>\n",
       "    </tr>\n",
       "    <tr>\n",
       "      <th>314</th>\n",
       "      <td>Youth Videoconferencing</td>\n",
       "      <td>Outdoor Learning</td>\n",
       "    </tr>\n",
       "  </tbody>\n",
       "</table>\n",
       "<p>226 rows × 2 columns</p>\n",
       "</div>"
      ],
      "text/plain": [
       "                                               Program Environmental_Themes\n",
       "0                                   5th Grade Wetlands     Outdoor Learning\n",
       "1                              A Closer Look at Nature     Outdoor Learning\n",
       "2                              A Closer Look at Nature     Outdoor Learning\n",
       "3                                        Activity Kits     Outdoor Learning\n",
       "4                                   After School Club      Outdoor Learning\n",
       "..                                                 ...                  ...\n",
       "307                           Wetlands Ecology Program     Outdoor Learning\n",
       "308                                WILD @ The Preserve     Outdoor Learning\n",
       "312  Youth Development, Stewardship & Outdoor Recre...     Outdoor Learning\n",
       "313                                     Youth Programs     Outdoor Learning\n",
       "314                           Youth Videoconferencing      Outdoor Learning\n",
       "\n",
       "[226 rows x 2 columns]"
      ]
     },
     "execution_count": 178,
     "metadata": {},
     "output_type": "execute_result"
    }
   ],
   "source": [
    "# programs['Environmental_Themes']\n",
    "\n",
    "df = programs.loc[:, ['Program','Environmental_Themes']]\n",
    "df['Environmental_Themes'] = df['Environmental_Themes'].str.split(', ')\n",
    "df = df.explode('Environmental_Themes')\n",
    "# df['Environmental_Themes'].str.contains(\"Air Quality\") \n",
    "df[df['Environmental_Themes'] == 'Outdoor Learning']\n",
    "# df"
   ]
  },
  {
   "cell_type": "code",
   "execution_count": 147,
   "metadata": {},
   "outputs": [
    {
     "data": {
      "text/html": [
       "<div>\n",
       "<style scoped>\n",
       "    .dataframe tbody tr th:only-of-type {\n",
       "        vertical-align: middle;\n",
       "    }\n",
       "\n",
       "    .dataframe tbody tr th {\n",
       "        vertical-align: top;\n",
       "    }\n",
       "\n",
       "    .dataframe thead th {\n",
       "        text-align: right;\n",
       "    }\n",
       "</style>\n",
       "<table border=\"1\" class=\"dataframe\">\n",
       "  <thead>\n",
       "    <tr style=\"text-align: right;\">\n",
       "      <th></th>\n",
       "      <th>Count</th>\n",
       "      <th>Percent</th>\n",
       "      <th>display_term</th>\n",
       "      <th>Label</th>\n",
       "    </tr>\n",
       "    <tr>\n",
       "      <th>Environmental_Themes</th>\n",
       "      <th></th>\n",
       "      <th></th>\n",
       "      <th></th>\n",
       "      <th></th>\n",
       "    </tr>\n",
       "  </thead>\n",
       "  <tbody>\n",
       "    <tr>\n",
       "      <th>Other</th>\n",
       "      <td>1</td>\n",
       "      <td>0</td>\n",
       "      <td>Other</td>\n",
       "      <td>Other 0%</td>\n",
       "    </tr>\n",
       "    <tr>\n",
       "      <th>Transportation</th>\n",
       "      <td>26</td>\n",
       "      <td>8</td>\n",
       "      <td>Transportation</td>\n",
       "      <td>Transportation 8%</td>\n",
       "    </tr>\n",
       "    <tr>\n",
       "      <th>Green Building</th>\n",
       "      <td>47</td>\n",
       "      <td>15</td>\n",
       "      <td>Green Building</td>\n",
       "      <td>Green Building 15%</td>\n",
       "    </tr>\n",
       "    <tr>\n",
       "      <th>Air Quality</th>\n",
       "      <td>50</td>\n",
       "      <td>16</td>\n",
       "      <td>Air Quality</td>\n",
       "      <td>Air Quality 16%</td>\n",
       "    </tr>\n",
       "    <tr>\n",
       "      <th>Workforce Development</th>\n",
       "      <td>52</td>\n",
       "      <td>16</td>\n",
       "      <td>Workforce Development</td>\n",
       "      <td>Workforce Development 16%</td>\n",
       "    </tr>\n",
       "    <tr>\n",
       "      <th>Energy</th>\n",
       "      <td>71</td>\n",
       "      <td>22</td>\n",
       "      <td>Energy</td>\n",
       "      <td>Energy 22%</td>\n",
       "    </tr>\n",
       "    <tr>\n",
       "      <th>Waste</th>\n",
       "      <td>82</td>\n",
       "      <td>26</td>\n",
       "      <td>Waste</td>\n",
       "      <td>Waste 26%</td>\n",
       "    </tr>\n",
       "    <tr>\n",
       "      <th>Food Systems/Nutrition</th>\n",
       "      <td>85</td>\n",
       "      <td>27</td>\n",
       "      <td>Food Systems</td>\n",
       "      <td>Food Systems 27%</td>\n",
       "    </tr>\n",
       "    <tr>\n",
       "      <th>Water</th>\n",
       "      <td>174</td>\n",
       "      <td>55</td>\n",
       "      <td>Water</td>\n",
       "      <td>Water 55%</td>\n",
       "    </tr>\n",
       "    <tr>\n",
       "      <th>STEM</th>\n",
       "      <td>187</td>\n",
       "      <td>59</td>\n",
       "      <td>STEM</td>\n",
       "      <td>STEM 59%</td>\n",
       "    </tr>\n",
       "    <tr>\n",
       "      <th>Outdoor Learning</th>\n",
       "      <td>226</td>\n",
       "      <td>72</td>\n",
       "      <td>Outdoor Learning</td>\n",
       "      <td>Outdoor Learning 72%</td>\n",
       "    </tr>\n",
       "    <tr>\n",
       "      <th>Conservation (Wildlife/Habitat)</th>\n",
       "      <td>234</td>\n",
       "      <td>74</td>\n",
       "      <td>Conservation</td>\n",
       "      <td>Conservation 74%</td>\n",
       "    </tr>\n",
       "  </tbody>\n",
       "</table>\n",
       "</div>"
      ],
      "text/plain": [
       "                                 Count  Percent           display_term  \\\n",
       "Environmental_Themes                                                     \n",
       "Other                                1        0                  Other   \n",
       "Transportation                      26        8         Transportation   \n",
       "Green Building                      47       15         Green Building   \n",
       "Air Quality                         50       16            Air Quality   \n",
       "Workforce Development               52       16  Workforce Development   \n",
       "Energy                              71       22                 Energy   \n",
       "Waste                               82       26                  Waste   \n",
       "Food Systems/Nutrition              85       27           Food Systems   \n",
       "Water                              174       55                  Water   \n",
       "STEM                               187       59                   STEM   \n",
       "Outdoor Learning                   226       72       Outdoor Learning   \n",
       "Conservation (Wildlife/Habitat)    234       74           Conservation   \n",
       "\n",
       "                                                     Label  \n",
       "Environmental_Themes                                        \n",
       "Other                                             Other 0%  \n",
       "Transportation                           Transportation 8%  \n",
       "Green Building                          Green Building 15%  \n",
       "Air Quality                                Air Quality 16%  \n",
       "Workforce Development            Workforce Development 16%  \n",
       "Energy                                          Energy 22%  \n",
       "Waste                                            Waste 26%  \n",
       "Food Systems/Nutrition                    Food Systems 27%  \n",
       "Water                                            Water 55%  \n",
       "STEM                                              STEM 59%  \n",
       "Outdoor Learning                      Outdoor Learning 72%  \n",
       "Conservation (Wildlife/Habitat)           Conservation 74%  "
      ]
     },
     "execution_count": 147,
     "metadata": {},
     "output_type": "execute_result"
    }
   ],
   "source": [
    "d_filter = pd.read_csv('../data/filter_dict.csv')\n",
    "\n",
    "## Function to produce dataframe with: term, display_term\n",
    "def get_display_terms(filter_df, table, column):\n",
    "    filter_df = filter_df[filter_df['table_name'] == table]\n",
    "    filter_df = filter_df[filter_df['column_name'] == column]\n",
    "    filter_df = filter_df.loc[:, ['term','display_term']]\n",
    "    filter_df = filter_df.set_index('term')\n",
    "    return filter_df\n",
    "\n",
    "# get_env_theme_display_terms(d_filter)\n",
    "\n",
    "## Function to produce dataframe with: Environmental_Themes, Count, Percent\n",
    "def count_env_themes_for_programs(programs_df):\n",
    "    ## Get program names and environmental themes\n",
    "    program_themes_df = programs_df.loc[:, ['Program','Environmental_Themes']]\n",
    "    ## Split environmental themes from string into an array of strings on \", \"\n",
    "    program_themes_df['Environmental_Themes'] = program_themes_df['Environmental_Themes'].str.split(', ')\n",
    "    ## Explode dataframe by environmental theme to get each theme from within an array into a row\n",
    "    program_themes_df = program_themes_df.explode('Environmental_Themes')\n",
    "#     theme_list = program_themes_df['Environmental_Themes'].unique()\n",
    "    ## Group by environmental theme counting the number of programs with each theme\n",
    "    theme_count_df = program_themes_df.groupby(['Environmental_Themes']).count()\n",
    "    ## Add column for percent of programs with the theme based on the number of program records\n",
    "    theme_count_df['Percent'] = round(100 * theme_count_df['Program'] / len(programs_df))\n",
    "    theme_count_df = theme_count_df.rename(columns={'Program': 'Count'})\n",
    "    theme_count_df = theme_count_df.astype({'Percent': int})\n",
    "#     print(theme_count_df)\n",
    "    return theme_count_df\n",
    "\n",
    "# count_env_themes_for_programs(programs)\n",
    "\n",
    "def prepare_env_themes_for_graph(programs_df, filter_df):\n",
    "    env_themes_df = count_env_themes_for_programs(programs_df)\n",
    "    env_theme_terms = get_display_terms(filter_df, 'Programs', 'Environmental_Themes')\n",
    "    ## Join environmental themes found in data with expected controlled terms and display terms\n",
    "    env_themes_df = env_themes_df.join(env_theme_terms)\n",
    "    ## Add column for label, using diplay term and percent value\n",
    "    env_themes_df['Label'] = env_themes_df['display_term'] + ' ' + env_themes_df['Percent'].astype(str) + '%'\n",
    "    ## Remove themes found within data that don't conform to recognized controlled terms (too bad, so sad)\n",
    "    env_themes_df = env_themes_df[env_themes_df['Label'].notna()]\n",
    "#     env_themes_df = env_themes_df[env_themes_df['Percent'] > 1]\n",
    "    env_themes_df = env_themes_df.sort_values(by=['Count'])\n",
    "    return env_themes_df\n",
    "\n",
    "prepare_env_themes_for_graph(programs, d_filter)"
   ]
  },
  {
   "cell_type": "code",
   "execution_count": 209,
   "metadata": {},
   "outputs": [
    {
     "name": "stdout",
     "output_type": "stream",
     "text": [
      "                                                 Organization  \\\n",
      "Sector                                                          \n",
      "Business                                                   11   \n",
      "Government (City, County, State, Federal, Etc.)            80   \n",
      "Higher Education Institution                               17   \n",
      "K-12 School/District                                       15   \n",
      "Non-profit                                                153   \n",
      "Other                                                       1   \n",
      "\n",
      "                                                                 display_term  \n",
      "Sector                                                                         \n",
      "Business                                                             Business  \n",
      "Government (City, County, State, Federal, Etc.)                    Government  \n",
      "Higher Education Institution                     Higher Education Institution  \n",
      "K-12 School/District                                     K-12 School/District  \n",
      "Non-profit                                                         Non-profit  \n",
      "Other                                                                   Other  \n"
     ]
    },
    {
     "data": {
      "application/vnd.plotly.v1+json": {
       "config": {
        "plotlyServerURL": "https://plot.ly"
       },
       "data": [
        {
         "domain": {
          "x": [
           0,
           1
          ],
          "y": [
           0,
           1
          ]
         },
         "hovertemplate": "display_term=%{label}<br>Organization=%{value}<extra></extra>",
         "labels": [
          "Business",
          "Government",
          "Higher Education Institution",
          "K-12 School/District",
          "Non-profit",
          "Other"
         ],
         "legendgroup": "",
         "name": "",
         "showlegend": true,
         "textposition": "inside",
         "type": "pie",
         "values": [
          11,
          80,
          17,
          15,
          153,
          1
         ]
        }
       ],
       "layout": {
        "height": 250,
        "legend": {
         "tracegroupgap": 0
        },
        "margin": {
         "b": 0,
         "l": 20,
         "r": 20,
         "t": 0
        },
        "piecolorway": [
         "#00A887",
         "#B9D535",
         "#FFC600",
         "#FF8F12",
         "#FF664B",
         "#40BEA5",
         "#CBE068",
         "#FFC400",
         "#FFAB4D",
         "#FF8C78",
         "#80D4C3",
         "#DCEA9A",
         "#FFE380",
         "#FFC789",
         "#FFB3A5"
        ],
        "showlegend": true,
        "template": {
         "data": {
          "bar": [
           {
            "error_x": {
             "color": "#2a3f5f"
            },
            "error_y": {
             "color": "#2a3f5f"
            },
            "marker": {
             "line": {
              "color": "#E5ECF6",
              "width": 0.5
             }
            },
            "type": "bar"
           }
          ],
          "barpolar": [
           {
            "marker": {
             "line": {
              "color": "#E5ECF6",
              "width": 0.5
             }
            },
            "type": "barpolar"
           }
          ],
          "carpet": [
           {
            "aaxis": {
             "endlinecolor": "#2a3f5f",
             "gridcolor": "white",
             "linecolor": "white",
             "minorgridcolor": "white",
             "startlinecolor": "#2a3f5f"
            },
            "baxis": {
             "endlinecolor": "#2a3f5f",
             "gridcolor": "white",
             "linecolor": "white",
             "minorgridcolor": "white",
             "startlinecolor": "#2a3f5f"
            },
            "type": "carpet"
           }
          ],
          "choropleth": [
           {
            "colorbar": {
             "outlinewidth": 0,
             "ticks": ""
            },
            "type": "choropleth"
           }
          ],
          "contour": [
           {
            "colorbar": {
             "outlinewidth": 0,
             "ticks": ""
            },
            "colorscale": [
             [
              0,
              "#0d0887"
             ],
             [
              0.1111111111111111,
              "#46039f"
             ],
             [
              0.2222222222222222,
              "#7201a8"
             ],
             [
              0.3333333333333333,
              "#9c179e"
             ],
             [
              0.4444444444444444,
              "#bd3786"
             ],
             [
              0.5555555555555556,
              "#d8576b"
             ],
             [
              0.6666666666666666,
              "#ed7953"
             ],
             [
              0.7777777777777778,
              "#fb9f3a"
             ],
             [
              0.8888888888888888,
              "#fdca26"
             ],
             [
              1,
              "#f0f921"
             ]
            ],
            "type": "contour"
           }
          ],
          "contourcarpet": [
           {
            "colorbar": {
             "outlinewidth": 0,
             "ticks": ""
            },
            "type": "contourcarpet"
           }
          ],
          "heatmap": [
           {
            "colorbar": {
             "outlinewidth": 0,
             "ticks": ""
            },
            "colorscale": [
             [
              0,
              "#0d0887"
             ],
             [
              0.1111111111111111,
              "#46039f"
             ],
             [
              0.2222222222222222,
              "#7201a8"
             ],
             [
              0.3333333333333333,
              "#9c179e"
             ],
             [
              0.4444444444444444,
              "#bd3786"
             ],
             [
              0.5555555555555556,
              "#d8576b"
             ],
             [
              0.6666666666666666,
              "#ed7953"
             ],
             [
              0.7777777777777778,
              "#fb9f3a"
             ],
             [
              0.8888888888888888,
              "#fdca26"
             ],
             [
              1,
              "#f0f921"
             ]
            ],
            "type": "heatmap"
           }
          ],
          "heatmapgl": [
           {
            "colorbar": {
             "outlinewidth": 0,
             "ticks": ""
            },
            "colorscale": [
             [
              0,
              "#0d0887"
             ],
             [
              0.1111111111111111,
              "#46039f"
             ],
             [
              0.2222222222222222,
              "#7201a8"
             ],
             [
              0.3333333333333333,
              "#9c179e"
             ],
             [
              0.4444444444444444,
              "#bd3786"
             ],
             [
              0.5555555555555556,
              "#d8576b"
             ],
             [
              0.6666666666666666,
              "#ed7953"
             ],
             [
              0.7777777777777778,
              "#fb9f3a"
             ],
             [
              0.8888888888888888,
              "#fdca26"
             ],
             [
              1,
              "#f0f921"
             ]
            ],
            "type": "heatmapgl"
           }
          ],
          "histogram": [
           {
            "marker": {
             "colorbar": {
              "outlinewidth": 0,
              "ticks": ""
             }
            },
            "type": "histogram"
           }
          ],
          "histogram2d": [
           {
            "colorbar": {
             "outlinewidth": 0,
             "ticks": ""
            },
            "colorscale": [
             [
              0,
              "#0d0887"
             ],
             [
              0.1111111111111111,
              "#46039f"
             ],
             [
              0.2222222222222222,
              "#7201a8"
             ],
             [
              0.3333333333333333,
              "#9c179e"
             ],
             [
              0.4444444444444444,
              "#bd3786"
             ],
             [
              0.5555555555555556,
              "#d8576b"
             ],
             [
              0.6666666666666666,
              "#ed7953"
             ],
             [
              0.7777777777777778,
              "#fb9f3a"
             ],
             [
              0.8888888888888888,
              "#fdca26"
             ],
             [
              1,
              "#f0f921"
             ]
            ],
            "type": "histogram2d"
           }
          ],
          "histogram2dcontour": [
           {
            "colorbar": {
             "outlinewidth": 0,
             "ticks": ""
            },
            "colorscale": [
             [
              0,
              "#0d0887"
             ],
             [
              0.1111111111111111,
              "#46039f"
             ],
             [
              0.2222222222222222,
              "#7201a8"
             ],
             [
              0.3333333333333333,
              "#9c179e"
             ],
             [
              0.4444444444444444,
              "#bd3786"
             ],
             [
              0.5555555555555556,
              "#d8576b"
             ],
             [
              0.6666666666666666,
              "#ed7953"
             ],
             [
              0.7777777777777778,
              "#fb9f3a"
             ],
             [
              0.8888888888888888,
              "#fdca26"
             ],
             [
              1,
              "#f0f921"
             ]
            ],
            "type": "histogram2dcontour"
           }
          ],
          "mesh3d": [
           {
            "colorbar": {
             "outlinewidth": 0,
             "ticks": ""
            },
            "type": "mesh3d"
           }
          ],
          "parcoords": [
           {
            "line": {
             "colorbar": {
              "outlinewidth": 0,
              "ticks": ""
             }
            },
            "type": "parcoords"
           }
          ],
          "pie": [
           {
            "automargin": true,
            "type": "pie"
           }
          ],
          "scatter": [
           {
            "marker": {
             "colorbar": {
              "outlinewidth": 0,
              "ticks": ""
             }
            },
            "type": "scatter"
           }
          ],
          "scatter3d": [
           {
            "line": {
             "colorbar": {
              "outlinewidth": 0,
              "ticks": ""
             }
            },
            "marker": {
             "colorbar": {
              "outlinewidth": 0,
              "ticks": ""
             }
            },
            "type": "scatter3d"
           }
          ],
          "scattercarpet": [
           {
            "marker": {
             "colorbar": {
              "outlinewidth": 0,
              "ticks": ""
             }
            },
            "type": "scattercarpet"
           }
          ],
          "scattergeo": [
           {
            "marker": {
             "colorbar": {
              "outlinewidth": 0,
              "ticks": ""
             }
            },
            "type": "scattergeo"
           }
          ],
          "scattergl": [
           {
            "marker": {
             "colorbar": {
              "outlinewidth": 0,
              "ticks": ""
             }
            },
            "type": "scattergl"
           }
          ],
          "scattermapbox": [
           {
            "marker": {
             "colorbar": {
              "outlinewidth": 0,
              "ticks": ""
             }
            },
            "type": "scattermapbox"
           }
          ],
          "scatterpolar": [
           {
            "marker": {
             "colorbar": {
              "outlinewidth": 0,
              "ticks": ""
             }
            },
            "type": "scatterpolar"
           }
          ],
          "scatterpolargl": [
           {
            "marker": {
             "colorbar": {
              "outlinewidth": 0,
              "ticks": ""
             }
            },
            "type": "scatterpolargl"
           }
          ],
          "scatterternary": [
           {
            "marker": {
             "colorbar": {
              "outlinewidth": 0,
              "ticks": ""
             }
            },
            "type": "scatterternary"
           }
          ],
          "surface": [
           {
            "colorbar": {
             "outlinewidth": 0,
             "ticks": ""
            },
            "colorscale": [
             [
              0,
              "#0d0887"
             ],
             [
              0.1111111111111111,
              "#46039f"
             ],
             [
              0.2222222222222222,
              "#7201a8"
             ],
             [
              0.3333333333333333,
              "#9c179e"
             ],
             [
              0.4444444444444444,
              "#bd3786"
             ],
             [
              0.5555555555555556,
              "#d8576b"
             ],
             [
              0.6666666666666666,
              "#ed7953"
             ],
             [
              0.7777777777777778,
              "#fb9f3a"
             ],
             [
              0.8888888888888888,
              "#fdca26"
             ],
             [
              1,
              "#f0f921"
             ]
            ],
            "type": "surface"
           }
          ],
          "table": [
           {
            "cells": {
             "fill": {
              "color": "#EBF0F8"
             },
             "line": {
              "color": "white"
             }
            },
            "header": {
             "fill": {
              "color": "#C8D4E3"
             },
             "line": {
              "color": "white"
             }
            },
            "type": "table"
           }
          ]
         },
         "layout": {
          "annotationdefaults": {
           "arrowcolor": "#2a3f5f",
           "arrowhead": 0,
           "arrowwidth": 1
          },
          "coloraxis": {
           "colorbar": {
            "outlinewidth": 0,
            "ticks": ""
           }
          },
          "colorscale": {
           "diverging": [
            [
             0,
             "#8e0152"
            ],
            [
             0.1,
             "#c51b7d"
            ],
            [
             0.2,
             "#de77ae"
            ],
            [
             0.3,
             "#f1b6da"
            ],
            [
             0.4,
             "#fde0ef"
            ],
            [
             0.5,
             "#f7f7f7"
            ],
            [
             0.6,
             "#e6f5d0"
            ],
            [
             0.7,
             "#b8e186"
            ],
            [
             0.8,
             "#7fbc41"
            ],
            [
             0.9,
             "#4d9221"
            ],
            [
             1,
             "#276419"
            ]
           ],
           "sequential": [
            [
             0,
             "#0d0887"
            ],
            [
             0.1111111111111111,
             "#46039f"
            ],
            [
             0.2222222222222222,
             "#7201a8"
            ],
            [
             0.3333333333333333,
             "#9c179e"
            ],
            [
             0.4444444444444444,
             "#bd3786"
            ],
            [
             0.5555555555555556,
             "#d8576b"
            ],
            [
             0.6666666666666666,
             "#ed7953"
            ],
            [
             0.7777777777777778,
             "#fb9f3a"
            ],
            [
             0.8888888888888888,
             "#fdca26"
            ],
            [
             1,
             "#f0f921"
            ]
           ],
           "sequentialminus": [
            [
             0,
             "#0d0887"
            ],
            [
             0.1111111111111111,
             "#46039f"
            ],
            [
             0.2222222222222222,
             "#7201a8"
            ],
            [
             0.3333333333333333,
             "#9c179e"
            ],
            [
             0.4444444444444444,
             "#bd3786"
            ],
            [
             0.5555555555555556,
             "#d8576b"
            ],
            [
             0.6666666666666666,
             "#ed7953"
            ],
            [
             0.7777777777777778,
             "#fb9f3a"
            ],
            [
             0.8888888888888888,
             "#fdca26"
            ],
            [
             1,
             "#f0f921"
            ]
           ]
          },
          "colorway": [
           "#636efa",
           "#EF553B",
           "#00cc96",
           "#ab63fa",
           "#FFA15A",
           "#19d3f3",
           "#FF6692",
           "#B6E880",
           "#FF97FF",
           "#FECB52"
          ],
          "font": {
           "color": "#2a3f5f"
          },
          "geo": {
           "bgcolor": "white",
           "lakecolor": "white",
           "landcolor": "#E5ECF6",
           "showlakes": true,
           "showland": true,
           "subunitcolor": "white"
          },
          "hoverlabel": {
           "align": "left"
          },
          "hovermode": "closest",
          "mapbox": {
           "style": "light"
          },
          "paper_bgcolor": "white",
          "plot_bgcolor": "#E5ECF6",
          "polar": {
           "angularaxis": {
            "gridcolor": "white",
            "linecolor": "white",
            "ticks": ""
           },
           "bgcolor": "#E5ECF6",
           "radialaxis": {
            "gridcolor": "white",
            "linecolor": "white",
            "ticks": ""
           }
          },
          "scene": {
           "xaxis": {
            "backgroundcolor": "#E5ECF6",
            "gridcolor": "white",
            "gridwidth": 2,
            "linecolor": "white",
            "showbackground": true,
            "ticks": "",
            "zerolinecolor": "white"
           },
           "yaxis": {
            "backgroundcolor": "#E5ECF6",
            "gridcolor": "white",
            "gridwidth": 2,
            "linecolor": "white",
            "showbackground": true,
            "ticks": "",
            "zerolinecolor": "white"
           },
           "zaxis": {
            "backgroundcolor": "#E5ECF6",
            "gridcolor": "white",
            "gridwidth": 2,
            "linecolor": "white",
            "showbackground": true,
            "ticks": "",
            "zerolinecolor": "white"
           }
          },
          "shapedefaults": {
           "line": {
            "color": "#2a3f5f"
           }
          },
          "ternary": {
           "aaxis": {
            "gridcolor": "white",
            "linecolor": "white",
            "ticks": ""
           },
           "baxis": {
            "gridcolor": "white",
            "linecolor": "white",
            "ticks": ""
           },
           "bgcolor": "#E5ECF6",
           "caxis": {
            "gridcolor": "white",
            "linecolor": "white",
            "ticks": ""
           }
          },
          "title": {
           "x": 0.05
          },
          "xaxis": {
           "automargin": true,
           "gridcolor": "white",
           "linecolor": "white",
           "ticks": "",
           "title": {
            "standoff": 15
           },
           "zerolinecolor": "white",
           "zerolinewidth": 2
          },
          "yaxis": {
           "automargin": true,
           "gridcolor": "white",
           "linecolor": "white",
           "ticks": "",
           "title": {
            "standoff": 15
           },
           "zerolinecolor": "white",
           "zerolinewidth": 2
          }
         }
        }
       }
      },
      "text/html": [
       "<div>                            <div id=\"ae4359f8-a579-4181-8d43-af617b655344\" class=\"plotly-graph-div\" style=\"height:250px; width:100%;\"></div>            <script type=\"text/javascript\">                require([\"plotly\"], function(Plotly) {                    window.PLOTLYENV=window.PLOTLYENV || {};                                    if (document.getElementById(\"ae4359f8-a579-4181-8d43-af617b655344\")) {                    Plotly.newPlot(                        \"ae4359f8-a579-4181-8d43-af617b655344\",                        [{\"domain\": {\"x\": [0.0, 1.0], \"y\": [0.0, 1.0]}, \"hovertemplate\": \"display_term=%{label}<br>Organization=%{value}<extra></extra>\", \"labels\": [\"Business\", \"Government\", \"Higher Education Institution\", \"K-12 School/District\", \"Non-profit\", \"Other\"], \"legendgroup\": \"\", \"name\": \"\", \"showlegend\": true, \"textposition\": \"inside\", \"type\": \"pie\", \"values\": [11, 80, 17, 15, 153, 1]}],                        {\"height\": 250, \"legend\": {\"tracegroupgap\": 0}, \"margin\": {\"b\": 0, \"l\": 20, \"r\": 20, \"t\": 0}, \"piecolorway\": [\"#00A887\", \"#B9D535\", \"#FFC600\", \"#FF8F12\", \"#FF664B\", \"#40BEA5\", \"#CBE068\", \"#FFC400\", \"#FFAB4D\", \"#FF8C78\", \"#80D4C3\", \"#DCEA9A\", \"#FFE380\", \"#FFC789\", \"#FFB3A5\"], \"showlegend\": true, \"template\": {\"data\": {\"bar\": [{\"error_x\": {\"color\": \"#2a3f5f\"}, \"error_y\": {\"color\": \"#2a3f5f\"}, \"marker\": {\"line\": {\"color\": \"#E5ECF6\", \"width\": 0.5}}, \"type\": \"bar\"}], \"barpolar\": [{\"marker\": {\"line\": {\"color\": \"#E5ECF6\", \"width\": 0.5}}, \"type\": \"barpolar\"}], \"carpet\": [{\"aaxis\": {\"endlinecolor\": \"#2a3f5f\", \"gridcolor\": \"white\", \"linecolor\": \"white\", \"minorgridcolor\": \"white\", \"startlinecolor\": \"#2a3f5f\"}, \"baxis\": {\"endlinecolor\": \"#2a3f5f\", \"gridcolor\": \"white\", \"linecolor\": \"white\", \"minorgridcolor\": \"white\", \"startlinecolor\": \"#2a3f5f\"}, \"type\": \"carpet\"}], \"choropleth\": [{\"colorbar\": {\"outlinewidth\": 0, \"ticks\": \"\"}, \"type\": \"choropleth\"}], \"contour\": [{\"colorbar\": {\"outlinewidth\": 0, \"ticks\": \"\"}, \"colorscale\": [[0.0, \"#0d0887\"], [0.1111111111111111, \"#46039f\"], [0.2222222222222222, \"#7201a8\"], [0.3333333333333333, \"#9c179e\"], [0.4444444444444444, \"#bd3786\"], [0.5555555555555556, \"#d8576b\"], [0.6666666666666666, \"#ed7953\"], [0.7777777777777778, \"#fb9f3a\"], [0.8888888888888888, \"#fdca26\"], [1.0, \"#f0f921\"]], \"type\": \"contour\"}], \"contourcarpet\": [{\"colorbar\": {\"outlinewidth\": 0, \"ticks\": \"\"}, \"type\": \"contourcarpet\"}], \"heatmap\": [{\"colorbar\": {\"outlinewidth\": 0, \"ticks\": \"\"}, \"colorscale\": [[0.0, \"#0d0887\"], [0.1111111111111111, \"#46039f\"], [0.2222222222222222, \"#7201a8\"], [0.3333333333333333, \"#9c179e\"], [0.4444444444444444, \"#bd3786\"], [0.5555555555555556, \"#d8576b\"], [0.6666666666666666, \"#ed7953\"], [0.7777777777777778, \"#fb9f3a\"], [0.8888888888888888, \"#fdca26\"], [1.0, \"#f0f921\"]], \"type\": \"heatmap\"}], \"heatmapgl\": [{\"colorbar\": {\"outlinewidth\": 0, \"ticks\": \"\"}, \"colorscale\": [[0.0, \"#0d0887\"], [0.1111111111111111, \"#46039f\"], [0.2222222222222222, \"#7201a8\"], [0.3333333333333333, \"#9c179e\"], [0.4444444444444444, \"#bd3786\"], [0.5555555555555556, \"#d8576b\"], [0.6666666666666666, \"#ed7953\"], [0.7777777777777778, \"#fb9f3a\"], [0.8888888888888888, \"#fdca26\"], [1.0, \"#f0f921\"]], \"type\": \"heatmapgl\"}], \"histogram\": [{\"marker\": {\"colorbar\": {\"outlinewidth\": 0, \"ticks\": \"\"}}, \"type\": \"histogram\"}], \"histogram2d\": [{\"colorbar\": {\"outlinewidth\": 0, \"ticks\": \"\"}, \"colorscale\": [[0.0, \"#0d0887\"], [0.1111111111111111, \"#46039f\"], [0.2222222222222222, \"#7201a8\"], [0.3333333333333333, \"#9c179e\"], [0.4444444444444444, \"#bd3786\"], [0.5555555555555556, \"#d8576b\"], [0.6666666666666666, \"#ed7953\"], [0.7777777777777778, \"#fb9f3a\"], [0.8888888888888888, \"#fdca26\"], [1.0, \"#f0f921\"]], \"type\": \"histogram2d\"}], \"histogram2dcontour\": [{\"colorbar\": {\"outlinewidth\": 0, \"ticks\": \"\"}, \"colorscale\": [[0.0, \"#0d0887\"], [0.1111111111111111, \"#46039f\"], [0.2222222222222222, \"#7201a8\"], [0.3333333333333333, \"#9c179e\"], [0.4444444444444444, \"#bd3786\"], [0.5555555555555556, \"#d8576b\"], [0.6666666666666666, \"#ed7953\"], [0.7777777777777778, \"#fb9f3a\"], [0.8888888888888888, \"#fdca26\"], [1.0, \"#f0f921\"]], \"type\": \"histogram2dcontour\"}], \"mesh3d\": [{\"colorbar\": {\"outlinewidth\": 0, \"ticks\": \"\"}, \"type\": \"mesh3d\"}], \"parcoords\": [{\"line\": {\"colorbar\": {\"outlinewidth\": 0, \"ticks\": \"\"}}, \"type\": \"parcoords\"}], \"pie\": [{\"automargin\": true, \"type\": \"pie\"}], \"scatter\": [{\"marker\": {\"colorbar\": {\"outlinewidth\": 0, \"ticks\": \"\"}}, \"type\": \"scatter\"}], \"scatter3d\": [{\"line\": {\"colorbar\": {\"outlinewidth\": 0, \"ticks\": \"\"}}, \"marker\": {\"colorbar\": {\"outlinewidth\": 0, \"ticks\": \"\"}}, \"type\": \"scatter3d\"}], \"scattercarpet\": [{\"marker\": {\"colorbar\": {\"outlinewidth\": 0, \"ticks\": \"\"}}, \"type\": \"scattercarpet\"}], \"scattergeo\": [{\"marker\": {\"colorbar\": {\"outlinewidth\": 0, \"ticks\": \"\"}}, \"type\": \"scattergeo\"}], \"scattergl\": [{\"marker\": {\"colorbar\": {\"outlinewidth\": 0, \"ticks\": \"\"}}, \"type\": \"scattergl\"}], \"scattermapbox\": [{\"marker\": {\"colorbar\": {\"outlinewidth\": 0, \"ticks\": \"\"}}, \"type\": \"scattermapbox\"}], \"scatterpolar\": [{\"marker\": {\"colorbar\": {\"outlinewidth\": 0, \"ticks\": \"\"}}, \"type\": \"scatterpolar\"}], \"scatterpolargl\": [{\"marker\": {\"colorbar\": {\"outlinewidth\": 0, \"ticks\": \"\"}}, \"type\": \"scatterpolargl\"}], \"scatterternary\": [{\"marker\": {\"colorbar\": {\"outlinewidth\": 0, \"ticks\": \"\"}}, \"type\": \"scatterternary\"}], \"surface\": [{\"colorbar\": {\"outlinewidth\": 0, \"ticks\": \"\"}, \"colorscale\": [[0.0, \"#0d0887\"], [0.1111111111111111, \"#46039f\"], [0.2222222222222222, \"#7201a8\"], [0.3333333333333333, \"#9c179e\"], [0.4444444444444444, \"#bd3786\"], [0.5555555555555556, \"#d8576b\"], [0.6666666666666666, \"#ed7953\"], [0.7777777777777778, \"#fb9f3a\"], [0.8888888888888888, \"#fdca26\"], [1.0, \"#f0f921\"]], \"type\": \"surface\"}], \"table\": [{\"cells\": {\"fill\": {\"color\": \"#EBF0F8\"}, \"line\": {\"color\": \"white\"}}, \"header\": {\"fill\": {\"color\": \"#C8D4E3\"}, \"line\": {\"color\": \"white\"}}, \"type\": \"table\"}]}, \"layout\": {\"annotationdefaults\": {\"arrowcolor\": \"#2a3f5f\", \"arrowhead\": 0, \"arrowwidth\": 1}, \"coloraxis\": {\"colorbar\": {\"outlinewidth\": 0, \"ticks\": \"\"}}, \"colorscale\": {\"diverging\": [[0, \"#8e0152\"], [0.1, \"#c51b7d\"], [0.2, \"#de77ae\"], [0.3, \"#f1b6da\"], [0.4, \"#fde0ef\"], [0.5, \"#f7f7f7\"], [0.6, \"#e6f5d0\"], [0.7, \"#b8e186\"], [0.8, \"#7fbc41\"], [0.9, \"#4d9221\"], [1, \"#276419\"]], \"sequential\": [[0.0, \"#0d0887\"], [0.1111111111111111, \"#46039f\"], [0.2222222222222222, \"#7201a8\"], [0.3333333333333333, \"#9c179e\"], [0.4444444444444444, \"#bd3786\"], [0.5555555555555556, \"#d8576b\"], [0.6666666666666666, \"#ed7953\"], [0.7777777777777778, \"#fb9f3a\"], [0.8888888888888888, \"#fdca26\"], [1.0, \"#f0f921\"]], \"sequentialminus\": [[0.0, \"#0d0887\"], [0.1111111111111111, \"#46039f\"], [0.2222222222222222, \"#7201a8\"], [0.3333333333333333, \"#9c179e\"], [0.4444444444444444, \"#bd3786\"], [0.5555555555555556, \"#d8576b\"], [0.6666666666666666, \"#ed7953\"], [0.7777777777777778, \"#fb9f3a\"], [0.8888888888888888, \"#fdca26\"], [1.0, \"#f0f921\"]]}, \"colorway\": [\"#636efa\", \"#EF553B\", \"#00cc96\", \"#ab63fa\", \"#FFA15A\", \"#19d3f3\", \"#FF6692\", \"#B6E880\", \"#FF97FF\", \"#FECB52\"], \"font\": {\"color\": \"#2a3f5f\"}, \"geo\": {\"bgcolor\": \"white\", \"lakecolor\": \"white\", \"landcolor\": \"#E5ECF6\", \"showlakes\": true, \"showland\": true, \"subunitcolor\": \"white\"}, \"hoverlabel\": {\"align\": \"left\"}, \"hovermode\": \"closest\", \"mapbox\": {\"style\": \"light\"}, \"paper_bgcolor\": \"white\", \"plot_bgcolor\": \"#E5ECF6\", \"polar\": {\"angularaxis\": {\"gridcolor\": \"white\", \"linecolor\": \"white\", \"ticks\": \"\"}, \"bgcolor\": \"#E5ECF6\", \"radialaxis\": {\"gridcolor\": \"white\", \"linecolor\": \"white\", \"ticks\": \"\"}}, \"scene\": {\"xaxis\": {\"backgroundcolor\": \"#E5ECF6\", \"gridcolor\": \"white\", \"gridwidth\": 2, \"linecolor\": \"white\", \"showbackground\": true, \"ticks\": \"\", \"zerolinecolor\": \"white\"}, \"yaxis\": {\"backgroundcolor\": \"#E5ECF6\", \"gridcolor\": \"white\", \"gridwidth\": 2, \"linecolor\": \"white\", \"showbackground\": true, \"ticks\": \"\", \"zerolinecolor\": \"white\"}, \"zaxis\": {\"backgroundcolor\": \"#E5ECF6\", \"gridcolor\": \"white\", \"gridwidth\": 2, \"linecolor\": \"white\", \"showbackground\": true, \"ticks\": \"\", \"zerolinecolor\": \"white\"}}, \"shapedefaults\": {\"line\": {\"color\": \"#2a3f5f\"}}, \"ternary\": {\"aaxis\": {\"gridcolor\": \"white\", \"linecolor\": \"white\", \"ticks\": \"\"}, \"baxis\": {\"gridcolor\": \"white\", \"linecolor\": \"white\", \"ticks\": \"\"}, \"bgcolor\": \"#E5ECF6\", \"caxis\": {\"gridcolor\": \"white\", \"linecolor\": \"white\", \"ticks\": \"\"}}, \"title\": {\"x\": 0.05}, \"xaxis\": {\"automargin\": true, \"gridcolor\": \"white\", \"linecolor\": \"white\", \"ticks\": \"\", \"title\": {\"standoff\": 15}, \"zerolinecolor\": \"white\", \"zerolinewidth\": 2}, \"yaxis\": {\"automargin\": true, \"gridcolor\": \"white\", \"linecolor\": \"white\", \"ticks\": \"\", \"title\": {\"standoff\": 15}, \"zerolinecolor\": \"white\", \"zerolinewidth\": 2}}}},                        {\"responsive\": true}                    ).then(function(){\n",
       "                            \n",
       "var gd = document.getElementById('ae4359f8-a579-4181-8d43-af617b655344');\n",
       "var x = new MutationObserver(function (mutations, observer) {{\n",
       "        var display = window.getComputedStyle(gd).display;\n",
       "        if (!display || display === 'none') {{\n",
       "            console.log([gd, 'removed!']);\n",
       "            Plotly.purge(gd);\n",
       "            observer.disconnect();\n",
       "        }}\n",
       "}});\n",
       "\n",
       "// Listen for the removal of the full notebook cells\n",
       "var notebookContainer = gd.closest('#notebook-container');\n",
       "if (notebookContainer) {{\n",
       "    x.observe(notebookContainer, {childList: true});\n",
       "}}\n",
       "\n",
       "// Listen for the clearing of the current output cell\n",
       "var outputEl = gd.closest('.output');\n",
       "if (outputEl) {{\n",
       "    x.observe(outputEl, {childList: true});\n",
       "}}\n",
       "\n",
       "                        })                };                });            </script>        </div>"
      ]
     },
     "metadata": {},
     "output_type": "display_data"
    }
   ],
   "source": [
    "df_o = orgs\n",
    "def make_groupby_pie_chart(filter_df, df, col, textinfo = None, group = 'Organization', color_scale = eco_color,showlegend=False ):    \n",
    "    pie_df = pd.DataFrame(df.groupby(col)[group].count())\n",
    "#     print(pie_df)\n",
    "    terms_df = get_display_terms(filter_df, 'Organizations', col)\n",
    "#     print(terms_df)\n",
    "    pie_df = pie_df.join(terms_df)\n",
    "    print(pie_df)\n",
    "    pie_df.reset_index(level=0, inplace=True)\n",
    "    fig = px.pie(pie_df, values=group, names=pie_df['display_term'], color_discrete_sequence=color_scale)\n",
    "    fig.update_traces(textposition='inside', textinfo=textinfo)\n",
    "    fig.update_layout(showlegend=showlegend,height=250,   margin=dict(l=20, r=20, t=0, b=0)) \n",
    "    return fig\n",
    "\n",
    "make_groupby_pie_chart(d_filter, df_o,'Sector',showlegend=True)"
   ]
  },
  {
   "cell_type": "code",
   "execution_count": 105,
   "metadata": {},
   "outputs": [
    {
     "name": "stdout",
     "output_type": "stream",
     "text": [
      "{'Organizations': {'Custom_Region': {'display_name': 'Region', 'options': [{'DFW/North TX': 'North Texas', 'Houston': 'Houston', 'El Paso': 'El Paso', 'San Antonio': 'San Antonio', 'Austin/Central TX': 'Central TX', 'RGV': 'Rio Grande Valley', 'Coastal Bend & Laredo': 'Coastal Bend & Laredo', 'Great Plains': 'Great Plains', 'Statewide & Other': 'Statewide & Other', 'National': 'National'}]}, 'Education_Service_Center': {'display_name': 'ESC Headquarters', 'options': [{'1': 'Region 1 – Edinburg', '2': 'Region 2 – Corpus Christi', '3': 'Region 3 – Victoria', '4': 'Region 4 – Houston', '5': 'Region 5 – Beaumont', '6': 'Region 6 – Huntsville', '7': 'Region 7 – Kilgore', '8': 'Region 8 – Mount Pleasant', '9': 'Region 9 – Wichita Falls', '10': 'Region 10 – Richardson', '11': 'Region 11 – Fort Worth', '12': 'Region 12 – Waco', '13': 'Region 13 – Austin', '14': 'Region 14 – Abilene', '15': 'Region 15 – San Angelo', '16': 'Region 16 - Amarillo', '17': 'Region 17 – Lubbock', '18': 'Region 18 – Midland', '19': 'Region 19 – El Paso', '20': 'Region 20 – San Antonio'}]}, 'Sector': {'display_name': 'Sector', 'options': [{'Business': 'Business', 'Government (City, County, State, Federal, Etc.)': 'Government', 'Higher Education Institution': 'Higher Education Institution', 'K-12 School/District': 'K-12 School/District', 'Non-profit': 'Non-profit', 'Other': 'Other'}]}, 'Service_Area': {'display_name': 'Service Area', 'options': [{'Local (City/Town)': 'Local', 'Regional/Multi-county': 'Regional', 'State': 'State', 'National': 'National', 'International': 'International'}]}, 'Stakeholder_Category': {'display_name': 'Stakeholder Type', 'options': [{'Business': 'Business', 'Consultant': 'Consultant', 'Foundation': 'Foundation', 'Government': 'Government', 'Higher Education': 'Higher Education', 'Network/Association': 'Association', 'School District/Campus': 'School District', 'Service Provider': 'Service Provider'}]}, 'Volunteers': {'display_name': 'Volunteers', 'options': [{'Yes': 'Yes', 'No': 'No'}]}, 'Work_Terms': {'display_name': 'Terms Used to Describe Work', 'options': [{'Children in Nature': 'Children in Nature', 'Climate Education': 'Climate Education', 'Conservation': 'Conservation', 'Education for Sustainability': 'Education for Sustainability', 'Environmental Education': 'Environmental Education', 'Environmental Justice': 'Environmental Justice', 'Environmental Literacy': 'Environmental Literacy', 'Green Schools': 'Green Schools', 'Health & Wellness': 'Health & Wellness', 'Outdoor Education': 'Outdoor Education', 'Social Justice': 'Social Justice', 'STEM Education': 'STEM Education', 'Youth Development': 'Youth Development', 'Other': 'Other'}]}}, 'Programs': {'Academic_Standards_Alignment': {'display_name': 'Standards Aligned', 'options': [{'Never asked question': 'Not Asked', 'No (skip the next question)': 'No', 'Yes (please list them below)': 'Yes'}]}, 'Environmental_Themes': {'display_name': 'Environmental Themes', 'options': [{'Air Quality': 'Air Quality', 'Conservation (Wildlife/Habitat)': 'Conservation', 'Energy': 'Energy', 'Food Systems/Nutrition': 'Food Systems', 'Green Building': 'Green Building', 'Outdoor Learning': 'Outdoor Learning', 'STEM': 'STEM', 'Transportation': 'Transportation', 'Waste': 'Waste', 'Water': 'Water', 'Workforce Development': 'Workforce Development', 'Other': 'Other'}]}, 'Groups_Served': {'display_name': 'Groups Served', 'options': [{'Community/Family': 'Community', 'Elementary School <K-5>': 'Elementary School', 'High School <9-12>': 'High School', 'Middle School <6-8>': 'Middle School', 'Teachers/Administrators': 'Teachers'}]}, 'Impact_Evaluation': {'display_name': 'Evaluation', 'options': [{'Do Not Evaluate': 'No Evaluation', 'External Evaluation Partner': 'External Evaluation', 'Post-Program Survey Only': 'Post-Program Survey', 'Pre/Post-Program Survey': 'Pre and Post-Program Survey', 'Qualitative/Informal (Focus Groups, Interviews, Testimonies)': 'Qualitative Evaluation', 'Rubrics for Student Projects/Presentations': 'Project Rubrics', 'Never asked question': 'Not Asked', 'Other': 'Other'}]}, 'Program_Locations': {'display_name': 'Location', 'options': [{'On School Campus': 'On School Campus', 'Off campus': 'Off campus', 'Virtual': 'Virtual', 'Other': 'Other'}]}, 'Program_Times': {'display_name': 'Time', 'options': [{'After School &/or Evenings': 'After School', 'During School Day': 'During School', 'Summer': 'Summer', 'Weekends': 'Weekends'}]}, 'Regions_Served': {'display_name': 'ESC Region Availability', 'options': [{'All Regions': 'All Regions', 'Region 1 – Edinburg': 'Region 1 – Edinburg', 'Region 2 – Corpus Christi': 'Region 2 – Corpus Christi', 'Region 3 – Victoria': 'Region 3 – Victoria', 'Region 4 – Houston': 'Region 4 – Houston', 'Region 5 – Beaumont': 'Region 5 – Beaumont', 'Region 6 – Huntsville': 'Region 6 – Huntsville', 'Region 7 – Kilgore': 'Region 7 – Kilgore', 'Region 8 – Mount Pleasant': 'Region 8 – Mount Pleasant', 'Region 9 – Wichita Falls': 'Region 9 – Wichita Falls', 'Region 10 – Richardson': 'Region 10 – Richardson', 'Region 11 – Fort Worth': 'Region 11 – Fort Worth', 'Region 12 – Waco': 'Region 12 – Waco', 'Region 13 – Austin': 'Region 13 – Austin', 'Region 14 – Abilene': 'Region 14 – Abilene', 'Region 15 – San Angelo': 'Region 15 – San Angelo', 'Region 16 - Amarillo': 'Region 16 - Amarillo', 'Region 17 – Lubbock': 'Region 17 – Lubbock', 'Region 18 – Midland': 'Region 18 – Midland', 'Region 19 – El Paso': 'Region 19 – El Paso', 'Region 20 – San Antonio': 'Region 20 – San Antonio'}]}, 'Rural_Communities_Focus': {'display_name': 'Rural Focus', 'options': [{'Yes': 'Yes', 'No': 'No', 'No, but it is available to rural communities': 'Available'}]}, 'Services_&_Resources': {'display_name': 'Offerings', 'options': [{'Classroom Volunteers/Presenters': 'Classroom Presenters', 'Curriculum & Instructional Materials': 'Instructional Materials', 'Directly Teaching Students': 'Direct Teaching', 'Field Trips': 'Field Trips', 'Grant Funding': 'Grant Funding', 'Internships': 'Internships', 'Professional Development for Teachers': 'Teachers Professional Development', 'Professional Development or Consulting for Administrators': 'Administrator Professional Development', 'Supporting Networks (online/in-person)': 'Supporting Networks', 'Other': 'Other'}]}, 'Student_Engagement_Frequency': {'display_name': 'Student Engagement', 'options': [{'Daily': 'Daily', 'Multiple times a month': 'Multiple times a month', 'Multiple times a week': 'Multiple times a week', 'Not applicable': 'Not applicable', 'Once a month': 'Once a month', 'Once a week': 'Once a week', 'Once a year': 'Once a year', 'Quarterly': 'Quarterly', 'Twice a year': 'Twice a year', 'Varies': 'Varies', 'Other': 'Other'}]}, 'Teacher/Administrator_Engagement_Frequency': {'display_name': 'Teacher/Admin Engagement', 'options': [{'Daily': 'Daily', 'Multiple times a month': 'Multiple times a month', 'Multiple times a week': 'Multiple times a week', 'Not applicable': 'Not applicable', 'Once a month': 'Once a month', 'Once a week': 'Once a week', 'Once a year': 'Once a year', 'Quarterly': 'Quarterly', 'Twice a year': 'Twice a year', 'Varies': 'Varies', 'Other': 'Other'}]}, 'Title_I_School_Participants': {'display_name': '% Title 1', 'options': [{'0-25%': '0-25%', '26-50%': '26-50%', '51-75%': '51-75%', '76-100%': '76-100%', 'Do not track': 'Do not track'}]}, 'Title_I_Schools_&_Low_Socioeconomic_Background_Focus': {'display_name': 'Title 1 Focus', 'options': [{'Yes, this is our core beneficiary and strategic priority.': 'Yes', 'No, this is not a focus in our outreach or programming.': 'No', 'This is not our core focus, but we serve a diverse spectrum of schools &/or students.': 'No, but we serve these areas.', 'We do not track Title I and/or low socioeconomic status students.': 'We do not track service to these areas.'}]}}}\n"
     ]
    }
   ],
   "source": [
    "# load filter dictionary data\n",
    "d_filter = pd.read_csv('../data/filter_dict.csv')\n",
    "\n",
    "# Create dictionary of filter options {tablename:{columnname:{'display_name':display_name,'options'{data_column:display_name}}}}\n",
    "filter_dict = {}\n",
    "for t in d_filter['table_name'].unique():\n",
    "    t_df = d_filter[d_filter['table_name']==t][['column_name','display_name']].drop_duplicates()\n",
    "    t_df = t_df.set_index('column_name')\n",
    "    t_dict = t_df.to_dict('index')\n",
    "    filter_dict[t] = t_dict\n",
    "    for k in filter_dict[t].keys():\n",
    "        tk_df = d_filter[(d_filter['table_name']==t) & (d_filter['column_name']==k)][['term','display_term']].drop_duplicates()\n",
    "        tk_dict = tk_df.set_index('term').T.to_dict('records') \n",
    "        filter_dict[t][k]['options'] = tk_dict\n",
    "print(filter_dict)"
   ]
  },
  {
   "cell_type": "markdown",
   "metadata": {},
   "source": [
    "## Dash App Functions\n",
    "### For figures"
   ]
  },
  {
   "cell_type": "code",
   "execution_count": 93,
   "metadata": {},
   "outputs": [],
   "source": [
    "# Create scatter map figure\n",
    "def make_scatter_map(filtered_df, lat = 'LATITUDE', lon = 'LONGITUDE', color = None, color_discrete_sequence = eco_color):\n",
    "    fig = px.scatter_mapbox(filtered_df,\n",
    "                            lat=filtered_df[lat],\n",
    "                            lon=filtered_df[lon],\n",
    "                            hover_name=\"Organization\",\n",
    "                            color = color,\n",
    "#                             center = {'lat': 31.9686, 'lon': -99.9018},\n",
    "                            zoom=4)\n",
    "    fig.update_layout(mapbox_style=\"open-street-map\")                  \n",
    "    fig.update_geos(fitbounds=\"locations\")\n",
    "    fig.update_layout(\n",
    "        showlegend=False,\n",
    "        autosize=False,\n",
    "        width=350,\n",
    "        height=350,\n",
    "        margin=dict(l=20, r=20, t=20, b=20))\n",
    "    return fig\n",
    "\n",
    "def make_groupby_pie_chart(df,col, textinfo = None, groupby_column = 'Organization', color_scale = eco_color,showlegend=False ):    \n",
    "    df = pd.DataFrame(df.groupby(col)[groupby_column].count())\n",
    "    df.reset_index(level=0, inplace=True)\n",
    "    fig = px.pie(df, values=groupby_column, names=col, color_discrete_sequence=color_scale)\n",
    "    fig.update_traces(textposition='inside', textinfo=textinfo)\n",
    "    fig.update_layout(showlegend=showlegend,height=250,   margin=dict(l=20, r=20, t=0, b=0)) \n",
    "    return fig\n",
    "\n",
    "def make_bar(df,xaxis,yaxis,label, orientation='h', textposition='inside', marker_color=eco_color_desc):\n",
    "    fig = px.bar(df, x=xaxis, y=yaxis, orientation=orientation, text=label)\n",
    "    fig.update_traces(marker_color=marker_color, texttemplate='%{text}', textposition=textposition)\n",
    "#     fig.update_layout(yaxis_title = '')\n",
    "    fig.update_yaxes(visible=False, showticklabels=False)\n",
    "    fig.update_xaxes(visible=False, showticklabels=False)\n",
    "    fig.update_layout(showlegend=False, margin=dict(l=20, r=20, t=0, b=0),\n",
    "        height=250)   \n",
    "    fig.update_layout(uniformtext_minsize=12)\n",
    "    fig.update_traces(\n",
    "       hovertemplate=None,\n",
    "       hoverinfo='skip'\n",
    "    )\n",
    "    return fig"
   ]
  },
  {
   "cell_type": "code",
   "execution_count": 94,
   "metadata": {},
   "outputs": [],
   "source": [
    "def make_map(orgdata, choro_geojson, featureidkey, choro_df, choro_df_location, choro_df_value, zoom = 5):\n",
    "    # Design point layer\n",
    "    scatter_fig_hover_template = '<b>%{hovertext}</b><br>Education Service Center: %{customdata[4]}<br><br>Region: %{customdata[0]}<br>Category: %{customdata[1]}<br>Sector: %{customdata[2]}<br>Service Area: %{customdata[3]}'\n",
    "    scatter_fig = px.scatter_mapbox(orgdata, lat=\"LATITUDE\", lon=\"LONGITUDE\", \n",
    "                             hover_name=\"Organization\", hover_data=[\"Custom_Region\", 'Stakeholder_Category', 'Sector', 'Service_Area','Education_Service_Center'])\n",
    "    scatter_fig.update_traces(hovertemplate=scatter_fig_hover_template)\n",
    "\n",
    "    # Build choropleth layer\n",
    "    fig = px.choropleth_mapbox(choro_df, geojson=choro_geojson, \n",
    "              featureidkey=featureidkey,\n",
    "              locations=choro_df_location,\n",
    "              color=choro_df_value,\n",
    "              color_continuous_scale = tint_50,\n",
    "              opacity = 0.25,\n",
    "               zoom=zoom,\n",
    "              center= {'lat': 31.9686, 'lon': -99.9018},\n",
    "              mapbox_style='carto-positron')\n",
    "    fig.update_traces(hovertemplate='ESC: %{location}<br>Organizations: %{z}')\n",
    "    \n",
    "    # add pt layer to map\n",
    "    for item in range(0,len(scatter_fig.data)):\n",
    "        fig.add_trace(scatter_fig.data[item])\n",
    "    fig.update_layout(mapbox_style=\"open-street-map\") # Ensure don't need token\n",
    "    fig.update_layout(\n",
    "        showlegend=False,\n",
    "        autosize=True,\n",
    "        height=350,\n",
    "        margin=dict(l=20, r=20, t=20, b=0))\n",
    "\n",
    "    return fig"
   ]
  },
  {
   "cell_type": "markdown",
   "metadata": {},
   "source": [
    "###  Build App components Functions"
   ]
  },
  {
   "cell_type": "code",
   "execution_count": 95,
   "metadata": {},
   "outputs": [],
   "source": [
    "def make_dropdown(i, options, placeholder, multi = True):\n",
    "    ''' Create a dropdown taking id, option and placeholder values as inputs. '''\n",
    "    \n",
    "    # Handle either list or options as inputs\n",
    "    if isinstance(options, dict):\n",
    "        opts = [{'label': options[k], 'value': k}\n",
    "                            for k in sorted(options)]\n",
    "    else: \n",
    "        opts = [{'label': c, 'value': c}\n",
    "                            for c in sorted(options)]    \n",
    "    \n",
    "    # Return actual dropdown component\n",
    "    return dcc.Dropdown(\n",
    "                id = f\"{i}\",\n",
    "                options=opts,\n",
    "                multi=multi,\n",
    "                placeholder=placeholder,\n",
    "                )\n",
    "\n"
   ]
  },
  {
   "cell_type": "code",
   "execution_count": 96,
   "metadata": {},
   "outputs": [],
   "source": [
    "def build_directory_table(table_id, df, display_cols):\n",
    "    ''' Function to create the structure and style elements of both the Organization and Programs tables'''\n",
    "    # Checks to add: \n",
    "#     * input dataframe\n",
    "#     * display_cols are in list of columsn in dataframe\n",
    "\n",
    "    data_table = dash_table.DataTable(\n",
    "                    id=table_id,\n",
    "                    columns=[{\"name\": i, \"id\": i} for i in df[display_cols].columns],\n",
    "                    data=df.to_dict('records'),\n",
    "                    sort_action=\"native\",\n",
    "                    sort_mode=\"multi\",\n",
    "                    page_action=\"native\",\n",
    "                    page_current= 0,\n",
    "                    page_size= 5,\n",
    "                    css=[{'selector': '.row', 'rule': 'margin: 0; flex-wrap: nowrap'},\n",
    "                        {'selector':'.export','rule':'position:absolute;left:0px;bottom:-35px'}],\n",
    "                    fixed_columns={'headers': True, 'data': 1},\n",
    "                    style_as_list_view=True,\n",
    "                    style_cell={'padding': '5px',\n",
    "                        'maxWidth': '300px',\n",
    "                        'textAlign': 'left',\n",
    "                        'height': 'auto',\n",
    "                        'whiteSpace': 'normal'\n",
    "                               },\n",
    "                    style_header={\n",
    "                        'backgroundColor': 'white',\n",
    "                        'fontWeight': 'bold'\n",
    "                    },\n",
    "                    style_data={'padding-left':'15px'},\n",
    "                    style_table={'minWidth': '100%', 'maxWidth': 'none !important','overflowX': 'auto'},\n",
    "                    export_format=\"xlsx\",\n",
    "                    export_headers=\"display\"\n",
    "                                    )\n",
    "    return data_table"
   ]
  },
  {
   "cell_type": "markdown",
   "metadata": {},
   "source": [
    "### Styling"
   ]
  },
  {
   "cell_type": "code",
   "execution_count": 97,
   "metadata": {},
   "outputs": [],
   "source": [
    "#STYLES\n",
    "# the style arguments for the sidebar. We use position:fixed and a fixed width\n",
    "SIDEBAR_STYLE = {\n",
    "    \"position\": \"fixed\",\n",
    "    \"top\": 0,\n",
    "    \"left\": 0,\n",
    "    \"bottom\": 0,\n",
    "    \"width\": \"18rem\",\n",
    "    \"padding\": \"2rem 1rem\",\n",
    "    \"background-color\": \"#f8f9fa\",\n",
    "}\n",
    "\n",
    "# the styles for the main content position it to the right of the sidebar and\n",
    "# add some padding.\n",
    "CONTENT_STYLE = {\n",
    "    \"margin-left\": \"20rem\",\n",
    "    \"margin-right\": \"2rem\",\n",
    "    \"padding\": \"2rem 1rem\",\n",
    "}"
   ]
  },
  {
   "cell_type": "markdown",
   "metadata": {},
   "source": [
    "### Construct Dash APP"
   ]
  },
  {
   "cell_type": "code",
   "execution_count": 98,
   "metadata": {
    "scrolled": true
   },
   "outputs": [
    {
     "name": "stdout",
     "output_type": "stream",
     "text": [
      "Dash app running on http://127.0.0.1:8050/\n"
     ]
    }
   ],
   "source": [
    "# Build App\n",
    "external_stylesheets = [dbc.themes.LITERA]\n",
    "# For Jupyter notebook - this switches to app = dash.Dash format for running on server\n",
    "app = JupyterDash(external_stylesheets=external_stylesheets)  # Jupyter Notebook\n",
    "# app = dash.Dash(__name__, external_stylesheets=external_stylesheets) # Dash APP server\n",
    "\n",
    "app.config.suppress_callback_exceptions = True\n",
    "\n",
    "# Get dictionaries to use for Org and Program filter lists. Specify list to pull, and then generate the dictionary\n",
    "# for these filters from the filter_dict file\n",
    "# Organizations\n",
    "org_filter_list = ['Custom_Region', 'Education_Service_Center', 'Sector', 'Service_Area']\n",
    "org_filter_dict = {k: filter_dict['Organizations'].get(k, None) for k in (org_filter_list)}\n",
    "\n",
    "# Programs\n",
    "pg_filter_list = ['Regions_Served','Environmental_Themes','Services_&_Resources','Academic_Standards_Alignment',\n",
    "                 'Program_Locations','Program_Times','Rural_Communities_Focus','Groups_Served','Title_I_School_Participants']\n",
    "pg_filter_dict = {k: filter_dict['Programs'].get(k, None) for k in (pg_filter_list)}\n",
    "\n",
    "# Build components\n",
    "overview_msg = html.Div([\n",
    "    html.H5(id='overview_msg')\n",
    "])\n",
    "\n",
    "dds_orgs =  html.Div(\n",
    "        [make_dropdown(f'dd-org-{k}', org_filter_dict[k]['options'][0], \n",
    "                       org_filter_dict[k]['display_name'])  for k in org_filter_dict\n",
    "         ]\n",
    ")\n",
    "\n",
    "dds_programs =  html.Div(\n",
    "        [make_dropdown(f'dd-pg-{k}', pg_filter_dict[k]['options'][0],pg_filter_dict[k]['display_name'])  \n",
    "         for k in pg_filter_dict\n",
    "         ]\n",
    ")\n",
    "\n",
    "dashboard = html.Div([\n",
    "    dbc.Row([\n",
    "        dbc.Col([\n",
    "            dcc.Graph(id = 'map')\n",
    "        ],md=6), \n",
    "        dbc.Col([\n",
    "            dcc.Graph(id = 'treemap')\n",
    "        ],md=6),   \n",
    "    ],\n",
    "    ),\n",
    "    dbc.Row([ \n",
    "        dbc.Col([\n",
    "            dcc.Graph(id='chart_theme')\n",
    "        ],md=6),     \n",
    "        dbc.Col([        \n",
    "            dcc.Graph(id='chart_sector')\n",
    "        ],md=6),         \n",
    "    ])\n",
    "\n",
    "])\n",
    "\n",
    "# Handle Education services centers separate to handle All?\n",
    "# dd_esc = make_dropdown('ESC', Education_Service_Centers, 'Education Service Centers') \n",
    "\n",
    "sidebar = html.Div(\n",
    "    [\n",
    "        html.H4('Filter on'),\n",
    "        html.H5('Organization Data'),\n",
    "        dds_orgs,\n",
    "        html.H5('Program Data'),\n",
    "        dds_programs,\n",
    "        html.Div(id='div-overview_msg')\n",
    "    ],\n",
    "    style=SIDEBAR_STYLE,\n",
    ")\n",
    "\n",
    "content = html.Div([\n",
    "    html.Div(id=\"out-all-types\"),\n",
    "    html.Div([\n",
    "        dcc.Tabs([            \n",
    "            dcc.Tab([dashboard],label='Dashboard', id='tab-dashboard'),  \n",
    "            dcc.Tab(id='tab-orgs'),\n",
    "            dcc.Tab(id='tab-programs'),   \n",
    "        ])\n",
    "    ])\n",
    "],\n",
    "    id=\"page-content\", style=CONTENT_STYLE)\n",
    "\n",
    "## LAYOUT\n",
    "app.layout = html.Div([\n",
    "    dcc.Store(id='filtered_data', storage_type='session'),\n",
    "    sidebar,\n",
    "    content\n",
    "])\n",
    "\n",
    "## CALLBACKS\n",
    "@app.callback(\n",
    "    [Output('out-all-types','children')\n",
    "         ,Output('tab-orgs','children'),Output('tab-orgs','label')\n",
    "         ,Output('tab-programs','children') ,Output('tab-programs','label')\n",
    "         ,Output('map', 'figure'),Output('chart_theme', 'figure')\n",
    "         ,Output('treemap', 'figure'),Output('chart_sector', 'figure')\n",
    "    ],\n",
    "    [Input(f'dd-org-{dd}', \"value\") for dd in org_filter_list]+\n",
    "    [Input(f'dd-pg-{dd}', \"value\") for dd in pg_filter_list ],\n",
    ") \n",
    "def dd_values(*vals):\n",
    "    # initial dataframes\n",
    "    df_o = orgs\n",
    "    df_p = programs\n",
    "    \n",
    "    #iterate through organization columns and filter data\n",
    "    i = 0\n",
    "    for v in vals[0:len(org_filter_list)]:        \n",
    "        if(v):\n",
    "            df_o = df_o[df_o[org_filter_list[i]].isin(v)]  \n",
    "        i += 1\n",
    "\n",
    "    # select only programs in the org list, then filter on program filters         \n",
    "    df_p = programs[programs['orgID'].isin(df_o['orgID'])] \n",
    "    p = i - len(org_filter_list)\n",
    "    p_count = 0\n",
    "    p_msg = 'programs: '\n",
    "    for v in vals[len(org_filter_list):]:        \n",
    "        if(v):\n",
    "            for i in v:\n",
    "                p_msg = p_msg + i\n",
    "            df_p = df_p[df_p[pg_filter_list[p]].isin(v)]\n",
    "            p_count += 1\n",
    "        p += 1                   \n",
    "    \n",
    "    # if any program filter is selected, filter orgs to this\n",
    "    if p_count > 0:\n",
    "        df_o = df_o[df_o['orgID'].isin(df_p['orgID'])]\n",
    "\n",
    "    # calculate Org message\n",
    "    org_count = len(df_o)\n",
    "    pg_count = len(df_p)\n",
    "    orgs_msg = 'Organization Records (' + str(org_count) + ')' \n",
    "    pg_msg  = 'Program Records (' + str(pg_count) + ')'\n",
    "    \n",
    "    # Build Directory tables\n",
    "    orgs_tab = html.Div([\n",
    "        build_directory_table('table-orgs', df_o, directory_org_cols)\n",
    "        ],style={'width':'100%'})\n",
    "    \n",
    "    programs_tab = html.Div([\n",
    "          build_directory_table('table-programs', df_p, directory_program_cols)\n",
    "        ],style={'width':'100%'})    \n",
    "\n",
    "    # Build Figures \n",
    "    # Calculate theme split\n",
    "    theme_count = count_env_themes(df_p, full_list)\n",
    "    theme_count['Label'] = theme_count['Theme'] + ' - ' + theme_count['Percent'].astype(str) + '%'\n",
    "    \n",
    "    # build map\n",
    "    # Get Count of entities per esc\n",
    "    esc_count = pd.DataFrame(df_o['Education_Service_Center'].value_counts())\n",
    "    esc_count = esc_count.reset_index().rename(columns={\"index\": \"ESC\", \"Education_Service_Center\": \"Organizations\"})\n",
    "    map_fig = make_map(df_o, esc_geojson, 'properties.FID', esc_count, 'ESC', 'Organizations', zoom=4)\n",
    "    \n",
    "    # build treemap\n",
    "    pg_count = pd.DataFrame(df_p['orgID'].value_counts())\n",
    "    pg_count = pg_count.reset_index().rename(columns={\"index\": \"orgID\", \"orgID\": \"Program_Count\"})\n",
    "    pg_count = pg_count.merge(orgs[['Organization','orgID','Education_Service_Center','Sector','Service_Area']], how='inner', on='orgID')\n",
    "    path1=['Education_Service_Center','Sector','Organization']\n",
    "    sb = pg_count.dropna(subset=path)\n",
    "    sb['Education_Service_Center'] = 'ESC: ' + sb['Education_Service_Center'].astype('int').astype('str')\n",
    "\n",
    "    tree_fig = px.sunburst(sb, path=path1, values = 'Program_Count',maxdepth=2)\n",
    "\n",
    "    # Test section\n",
    "    test_msg = ''\n",
    "    # return values\n",
    "    return (test_msg, orgs_tab, orgs_msg, programs_tab, pg_msg, \n",
    "            map_fig, \n",
    "            make_bar(theme_count, 'Percent','Theme','Label'),  \n",
    "            tree_fig,\n",
    "            make_groupby_pie_chart(df_o,'Service_Area',showlegend=True)\n",
    "           )\n",
    "\n",
    "## TO DO\n",
    "## Add themes once the data processing is worked out\n",
    "## Output: Output('chart_theme', 'figure'),\n",
    "\n",
    "# RUN app\n",
    "app.run_server(debug=True)\n"
   ]
  },
  {
   "cell_type": "code",
   "execution_count": null,
   "metadata": {},
   "outputs": [],
   "source": []
  }
 ],
 "metadata": {
  "kernelspec": {
   "display_name": "Python 3",
   "language": "python",
   "name": "python3"
  },
  "language_info": {
   "codemirror_mode": {
    "name": "ipython",
    "version": 3
   },
   "file_extension": ".py",
   "mimetype": "text/x-python",
   "name": "python",
   "nbconvert_exporter": "python",
   "pygments_lexer": "ipython3",
   "version": "3.7.7"
  }
 },
 "nbformat": 4,
 "nbformat_minor": 4
}
